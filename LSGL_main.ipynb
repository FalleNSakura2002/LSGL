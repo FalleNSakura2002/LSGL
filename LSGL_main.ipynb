{
 "cells": [
  {
   "cell_type": "code",
   "execution_count": 1,
   "metadata": {},
   "outputs": [
    {
     "name": "stderr",
     "output_type": "stream",
     "text": [
      "Cloning into 'LSGL'...\n"
     ]
    }
   ],
   "source": [
    "# 使用Huggingface模型\n",
    "import LSGL.LoFTR\n",
    "import LSGL.hgmod\n",
    "import LSGL.maskprocess as mp\n",
    "import glob\n",
    "import os\n",
    "\n",
    "# 执行科学加速\n",
    "! export http_proxy=http://172.181.217.43:12798 && export https_proxy=http://172.181.217.43:12798\n",
    "\n",
    "# 设定参数\n",
    "\n",
    "# 当前案例\n",
    "user = ''\n",
    "# 当输入数据库时启用如下语句\n",
    "# user = \"inp_database\"\n",
    "# 用户影像输入路径\n",
    "# img_inppath = 'db_upload/'\n",
    "img_inppath = 'SMD/'\n",
    "# 用户影像输出路径\n",
    "# img_outpath = 'database_img/'\n",
    "mask_outpath = 'tmp/'\n",
    "# 数据库影像路径\n",
    "img_database = 'SD/'\n",
    "# 匹配结果输出路径\n",
    "res_path = 'res/'\n",
    "\n",
    "# 设定处理模型\n",
    "segmodel = 'maskformer-swin-large-ade'\n",
    "# segmodel = 'maskformer-swin-tiny-ade'\n",
    "# segmodel = 'maskformer-swin-large-coco'\n",
    "\n",
    "\n",
    "# 调用分割模型\n",
    "# inp_imgs = glob.glob(os.path.join(img_inppath + '*.png'))\n",
    "# for userimage in inp_imgs:\n",
    "#     hgmod.imagesegment(userimage,mask_outpath,segmodel)\n",
    "#     hgmod.release_memory\n",
    "print('分割完成')\n",
    "# 检查场景类型\n",
    "# mp.imgscene(mask_outpath)\n",
    "# 处理遮罩\n",
    "# mp.proceed(mask_outpath, img_inppath, user, segmodel)\n",
    "print('遮罩处理完成')\n",
    "# 调用LoFTR匹配计算\n",
    "LoFTR.process(img_inppath, img_database, res_path, mask_outpath)\n",
    "print('目标匹配完成')"
   ]
  }
 ],
 "metadata": {
  "kernelspec": {
   "display_name": "LSGL_env",
   "language": "python",
   "name": "python3"
  },
  "language_info": {
   "codemirror_mode": {
    "name": "ipython",
    "version": 3
   },
   "file_extension": ".py",
   "mimetype": "text/x-python",
   "name": "python",
   "nbconvert_exporter": "python",
   "pygments_lexer": "ipython3",
   "version": "3.8.16"
  },
  "orig_nbformat": 4
 },
 "nbformat": 4,
 "nbformat_minor": 2
}

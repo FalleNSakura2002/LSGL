{
 "cells": [
  {
   "cell_type": "code",
   "execution_count": null,
   "metadata": {},
   "outputs": [],
   "source": [
    "# 环境配置\n",
    "\n",
    "# 安装框架-Linux\n",
    "# ! conda install pytorch==1.10.0 torchvision==0.11.0 torchaudio==0.10.0 cudatoolkit=11.3 -c pytorch -c conda-forge\n",
    "# ! pip install https://storage.googleapis.com/tensorflow/linux/gpu/tensorflow_gpu-2.6.0-cp38-cp38-manylinux2010_x86_64.whl\n",
    "\n",
    "# 安装框架-Windows\n",
    "# ! conda install pytorch==1.10.0 torchvision==0.11.0 torchaudio==0.10.0 cudatoolkit=11.3 -c pytorch -c conda-forge\n",
    "! conda install -c conda-forge tensorflow-gpu"
   ]
  },
  {
   "cell_type": "code",
   "execution_count": null,
   "metadata": {},
   "outputs": [],
   "source": [
    "# 检测Pytorch框架，显示True则为通过\n",
    "\n",
    "import torch\n",
    "\n",
    "print(torch.__version__)\n",
    "print(torch.cuda.is_available())"
   ]
  },
  {
   "cell_type": "code",
   "execution_count": null,
   "metadata": {},
   "outputs": [],
   "source": [
    "# 检测Tensorflow环境，显示True则为通过\n",
    "\n",
    "import tensorflow as tf\n",
    "\n",
    "tf.test.is_gpu_available(cuda_only=False, min_cuda_compute_capability=None)"
   ]
  },
  {
   "cell_type": "code",
   "execution_count": null,
   "metadata": {},
   "outputs": [],
   "source": [
    "# 安装其它包\n",
    "%pip install -r requirements.txt -i https://pypi.tuna.tsinghua.edu.cn/simple"
   ]
  },
  {
   "cell_type": "code",
   "execution_count": 1,
   "metadata": {},
   "outputs": [
    {
     "name": "stderr",
     "output_type": "stream",
     "text": [
      "d:\\ProgramData\\miniconda3\\envs\\LSGL_env\\lib\\site-packages\\tqdm\\auto.py:21: TqdmWarning: IProgress not found. Please update jupyter and ipywidgets. See https://ipywidgets.readthedocs.io/en/stable/user_install.html\n",
      "  from .autonotebook import tqdm as notebook_tqdm\n"
     ]
    },
    {
     "name": "stdout",
     "output_type": "stream",
     "text": [
      "[['09028900121705201128115687C', '0.8781286312704146']]\n",
      "[['09028900121705201128115687C', '0.8781286312704146'], ['09028900121904140823110638U', '1.4125867540936026']]\n",
      "[['09028900121705201128115687C', '0.8781286312704146'], ['09028900121904140823110638U', '1.4125867540936026'], ['09028900121904131457047475G', '0.8623915486832433']]\n",
      "[['09028900121705201128115687C', '0.8781286312704146'], ['09028900121904140823110638U', '1.4125867540936026'], ['09028900121904131457047475G', '0.8623915486832433'], ['09028900001407021630215215V', '0.9657401517570776']]\n",
      "[['09028900121705201128115687C', '0.8781286312704146'], ['09028900121904140823110638U', '1.4125867540936026'], ['09028900121904131457047475G', '0.8623915486832433'], ['09028900001407021630215215V', '0.9657401517570776'], ['09028900121904121447445135G', '0.8996090604497122']]\n"
     ]
    }
   ],
   "source": [
    "# 添加sys路径\n",
    "import sys\n",
    "sys.path.append('./LSGL/LoFTR')\n",
    "\n",
    "# 使用Huggingface模型\n",
    "import LSGL.LoFTR as LoFTR\n",
    "# import LSGL.hgmod as hgmod\n",
    "# import LSGL.maskprocess as mp\n",
    "import LSGL.conver as conver\n",
    "import StreetView.Block as Block\n",
    "# import StreetView.spider as spider\n",
    "import glob\n",
    "import os\n",
    "\n",
    "# 执行科学加速\n",
    "# ! export http_proxy=http://172.181.217.43:12798 && export https_proxy=http://172.181.217.43:12798\n",
    "\n",
    "# 设定参数\n",
    "\n",
    "# 获取影像的中心\n",
    "center = (113.380353386,34.8141059127)\n",
    "# 网格边长\n",
    "length = 0.25\n",
    "# 坐标结果输出\n",
    "csv_file = 'D:/LSGL_test/test1/coor/coordinates.csv'\n",
    "# 数据输出\n",
    "data_outpath = 'D:/LSGL_test/resource'\n",
    "# 用户影像输入路径\n",
    "# img_inppath = 'db_upload/'\n",
    "img_inppath = r'D:/LSGL_test/user'\n",
    "# 用户影像输出路径\n",
    "# img_outpath = 'database_img/'\n",
    "mask_outpath = 'D:/LSGL_test/tmp'\n",
    "# 匹配结果输出路径\n",
    "res_path = 'D:/LSGL_test/res'\n",
    "res_tmp = 'D:/LSGL_test/res_tmp'\n",
    "# 环境\n",
    "envir = 'windows' # or 'linux'\n",
    "# 用于记录匹配结果状态\n",
    "errorarr = []  \n",
    "\n",
    "# 针对不同环境处理路径\n",
    "paths = [img_inppath, mask_outpath, res_path]\n",
    "img_inppath, mask_outpath, res_path = conver.path(paths, envir)\n",
    "\n",
    "# 设定处理模型\n",
    "segmodel = 'maskformer-swin-large-ade'\n",
    "# segmodel = 'maskformer-swin-tiny-ade'\n",
    "# segmodel = 'maskformer-swin-large-coco'\n",
    "\n",
    "# 调用分割模型\n",
    "# inp_imgs = glob.glob(os.path.join(img_inppath + '*.png'))\n",
    "# for userimage in inp_imgs:\n",
    "#     print(userimage)\n",
    "#     userimage = hgmod.Unipath(userimage)\n",
    "#     hgmod.imagesegment(userimage,mask_outpath,segmodel)\n",
    "#     hgmod.release_memory\n",
    "\n",
    "# 检查场景类型\n",
    "# mp.imgscene(mask_outpath)\n",
    "# 处理遮罩\n",
    "# mp.proceed(mask_outpath, img_inppath, segmodel)\n",
    "\n",
    "# 爬取街景并进行匹配\n",
    "for level in range(1):\n",
    "    data_outpath_tmp = data_outpath + '/' + str(level) + '/'\n",
    "    res_tmp = res_path + str(level) + '/'\n",
    "    errorarr.append(0)  # 记录状态码\n",
    "\n",
    "    # 提取小格\n",
    "    if level >= 1:\n",
    "        length = length / 10\n",
    "\n",
    "    # Block.Cut(center, length, csv_file)\n",
    "    # spider.getPic(data_outpath_tmp, csv_file)\n",
    "\n",
    "    # 检查是否有跑出结果\n",
    "    if Block.chekres(data_outpath_tmp) == 0:\n",
    "        print('已到达最小层级')\n",
    "        break\n",
    "\n",
    "    # 调用LoFTR匹配计算\n",
    "    # LoFTR.process(img_inppath, data_outpath_tmp, res_tmp, mask_outpath)\n",
    "    # LoFTR.rating(res_tmp)\n",
    "    LoFTR.write_res(res_tmp, level)\n",
    "    x, y = LoFTR.bestpid(level, res_tmp, data_outpath_tmp, errorarr[level])\n",
    "    if x == 0:  # 如果没有匹配结果\n",
    "        break\n",
    "    center = (x, y)\n",
    "    ### 目前写到低于阈值时返回上一层（还没写）"
   ]
  },
  {
   "cell_type": "code",
   "execution_count": 2,
   "metadata": {},
   "outputs": [
    {
     "name": "stdout",
     "output_type": "stream",
     "text": [
      "0\n"
     ]
    }
   ],
   "source": [
    "import StreetView.Block as Block\n",
    "import StreetView.spider as spider\n",
    "\n",
    "# center = (113.380353386,34.8141059127)\n",
    "# length = 0.25\n",
    "# csv_file = 'D:/LSGL_test/test1/coordinates.csv'\n",
    "path = 'D:/LSGL_test/resource/downloadPic'\n",
    "# Block.Cut(center, length, csv_file)\n",
    "# spider.getPic('D:/LSGL_test/resource', csv_file)\n",
    "print(Block.chekres(path))"
   ]
  },
  {
   "cell_type": "code",
   "execution_count": null,
   "metadata": {},
   "outputs": [],
   "source": []
  }
 ],
 "metadata": {
  "kernelspec": {
   "display_name": "LSGL_env",
   "language": "python",
   "name": "python3"
  },
  "language_info": {
   "codemirror_mode": {
    "name": "ipython",
    "version": 3
   },
   "file_extension": ".py",
   "mimetype": "text/x-python",
   "name": "python",
   "nbconvert_exporter": "python",
   "pygments_lexer": "ipython3",
   "version": "3.8.16"
  },
  "orig_nbformat": 4
 },
 "nbformat": 4,
 "nbformat_minor": 2
}

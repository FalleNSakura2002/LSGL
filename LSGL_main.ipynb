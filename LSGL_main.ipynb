{
 "cells": [
  {
   "cell_type": "code",
   "execution_count": null,
   "metadata": {},
   "outputs": [],
   "source": [
    "# 环境配置\n",
    "\n",
    "# 安装框架-Linux\n",
    "# ! conda install pytorch==1.10.0 torchvision==0.11.0 torchaudio==0.10.0 cudatoolkit=11.3 -c pytorch -c conda-forge\n",
    "# ! pip install https://storage.googleapis.com/tensorflow/linux/gpu/tensorflow_gpu-2.6.0-cp38-cp38-manylinux2010_x86_64.whl\n",
    "\n",
    "# 安装框架-Windows\n",
    "# ! conda install pytorch==1.10.0 torchvision==0.11.0 torchaudio==0.10.0 cudatoolkit=11.3 -c pytorch -c conda-forge\n",
    "! conda install -c conda-forge tensorflow-gpu"
   ]
  },
  {
   "cell_type": "code",
   "execution_count": null,
   "metadata": {},
   "outputs": [],
   "source": [
    "# 检测Pytorch框架，显示True则为通过\n",
    "\n",
    "import torch\n",
    "\n",
    "print(torch.__version__)\n",
    "print(torch.cuda.is_available())"
   ]
  },
  {
   "cell_type": "code",
   "execution_count": null,
   "metadata": {},
   "outputs": [],
   "source": [
    "# 检测Tensorflow环境，显示True则为通过\n",
    "\n",
    "import tensorflow as tf\n",
    "\n",
    "tf.test.is_gpu_available(cuda_only=False, min_cuda_compute_capability=None)"
   ]
  },
  {
   "cell_type": "code",
   "execution_count": null,
   "metadata": {},
   "outputs": [],
   "source": [
    "# 安装其它包\n",
    "%pip install -r requirements.txt -i https://pypi.tuna.tsinghua.edu.cn/simple"
   ]
  },
  {
   "cell_type": "code",
   "execution_count": 1,
   "metadata": {},
   "outputs": [
    {
     "name": "stderr",
     "output_type": "stream",
     "text": [
      "d:\\ProgramData\\miniconda3\\envs\\LSGL_env\\lib\\site-packages\\tqdm\\auto.py:21: TqdmWarning: IProgress not found. Please update jupyter and ipywidgets. See https://ipywidgets.readthedocs.io/en/stable/user_install.html\n",
      "  from .autonotebook import tqdm as notebook_tqdm\n"
     ]
    },
    {
     "name": "stdout",
     "output_type": "stream",
     "text": [
      "D:/LSGL_test/test1/SMD\\M0X@@0TRW~P7L}K7PMH}[7Y.png\n"
     ]
    },
    {
     "name": "stderr",
     "output_type": "stream",
     "text": [
      "d:\\ProgramData\\miniconda3\\envs\\LSGL_env\\lib\\site-packages\\transformers\\models\\maskformer\\feature_extraction_maskformer.py:28: FutureWarning: The class MaskFormerFeatureExtractor is deprecated and will be removed in version 5 of Transformers. Please use MaskFormerImageProcessor instead.\n",
      "  warnings.warn(\n",
      "d:\\ProgramData\\miniconda3\\envs\\LSGL_env\\lib\\site-packages\\transformers\\models\\maskformer\\image_processing_maskformer.py:403: FutureWarning: The `size_divisibility` argument is deprecated and will be removed in v4.27. Please use `size_divisor` instead.\n",
      "  warnings.warn(\n",
      "d:\\ProgramData\\miniconda3\\envs\\LSGL_env\\lib\\site-packages\\transformers\\models\\maskformer\\image_processing_maskformer.py:410: FutureWarning: The `max_size` argument is deprecated and will be removed in v4.27. Please use size['longest_edge'] instead.\n",
      "  warnings.warn(\n",
      "d:\\LSGL\\LSGL\\hgmod.py:72: UserWarning: To copy construct from a tensor, it is recommended to use sourceTensor.clone().detach() or sourceTensor.clone().detach().requires_grad_(True), rather than torch.tensor(sourceTensor).\n",
      "  predicted_semantic_map = torch.tensor(predicted_semantic_map, dtype=torch.float32)\n"
     ]
    },
    {
     "name": "stdout",
     "output_type": "stream",
     "text": [
      "分割完成\n",
      "D:/LSGL_test/test1/SMD\\QV)G]30ROU3K}9(B_7UJSQE.png\n",
      "分割完成\n",
      "D:/LSGL_test/test1/SMD\\QZ3@1D_$KQ~KMJA8MQD9W`8.png\n"
     ]
    },
    {
     "ename": "KeyboardInterrupt",
     "evalue": "",
     "output_type": "error",
     "traceback": [
      "\u001b[1;31m---------------------------------------------------------------------------\u001b[0m",
      "\u001b[1;31mKeyboardInterrupt\u001b[0m                         Traceback (most recent call last)",
      "Cell \u001b[1;32mIn[1], line 50\u001b[0m\n\u001b[0;32m     48\u001b[0m     \u001b[39mprint\u001b[39m(userimage)\n\u001b[0;32m     49\u001b[0m     userimage \u001b[39m=\u001b[39m hgmod\u001b[39m.\u001b[39mUnipath(userimage)\n\u001b[1;32m---> 50\u001b[0m     hgmod\u001b[39m.\u001b[39;49mimagesegment(userimage,mask_outpath,segmodel)\n\u001b[0;32m     51\u001b[0m     hgmod\u001b[39m.\u001b[39mrelease_memory\n\u001b[0;32m     53\u001b[0m \u001b[39m# 检查场景类型\u001b[39;00m\n\u001b[0;32m     54\u001b[0m \u001b[39m# mp.imgscene(mask_outpath)\u001b[39;00m\n\u001b[0;32m     55\u001b[0m \u001b[39m# 处理遮罩\u001b[39;00m\n",
      "File \u001b[1;32md:\\LSGL\\LSGL\\hgmod.py:54\u001b[0m, in \u001b[0;36mimagesegment\u001b[1;34m(inpimage, outimage, segmodel)\u001b[0m\n\u001b[0;32m     52\u001b[0m \u001b[39m# 使用选定的模型处理数据\u001b[39;00m\n\u001b[0;32m     53\u001b[0m \u001b[39mif\u001b[39;00m segmodel \u001b[39m==\u001b[39m \u001b[39m'\u001b[39m\u001b[39mmaskformer-swin-large-ade\u001b[39m\u001b[39m'\u001b[39m:\n\u001b[1;32m---> 54\u001b[0m     predicted_semantic_map \u001b[39m=\u001b[39m maskformer_sla(image)\n\u001b[0;32m     55\u001b[0m \u001b[39melif\u001b[39;00m segmodel \u001b[39m==\u001b[39m \u001b[39m'\u001b[39m\u001b[39mmaskformer-swin-large-coco\u001b[39m\u001b[39m'\u001b[39m:\n\u001b[0;32m     56\u001b[0m     predicted_semantic_map \u001b[39m=\u001b[39m maskformer_slc(image)\n",
      "File \u001b[1;32md:\\LSGL\\LSGL\\hgmod.py:88\u001b[0m, in \u001b[0;36mmaskformer_sla\u001b[1;34m(image)\u001b[0m\n\u001b[0;32m     86\u001b[0m feature_extractor \u001b[39m=\u001b[39m MaskFormerFeatureExtractor\u001b[39m.\u001b[39mfrom_pretrained(\u001b[39m\"\u001b[39m\u001b[39mfacebook/maskformer-swin-large-ade\u001b[39m\u001b[39m\"\u001b[39m)\n\u001b[0;32m     87\u001b[0m inputs \u001b[39m=\u001b[39m feature_extractor(images\u001b[39m=\u001b[39mimage, return_tensors\u001b[39m=\u001b[39m\u001b[39m\"\u001b[39m\u001b[39mpt\u001b[39m\u001b[39m\"\u001b[39m)\n\u001b[1;32m---> 88\u001b[0m model \u001b[39m=\u001b[39m MaskFormerForInstanceSegmentation\u001b[39m.\u001b[39;49mfrom_pretrained(\u001b[39m\"\u001b[39;49m\u001b[39mfacebook/maskformer-swin-large-ade\u001b[39;49m\u001b[39m\"\u001b[39;49m)\n\u001b[0;32m     90\u001b[0m \u001b[39m# 处理图片\u001b[39;00m\n\u001b[0;32m     91\u001b[0m outputs \u001b[39m=\u001b[39m model(\u001b[39m*\u001b[39m\u001b[39m*\u001b[39minputs)\n",
      "File \u001b[1;32md:\\ProgramData\\miniconda3\\envs\\LSGL_env\\lib\\site-packages\\transformers\\modeling_utils.py:2429\u001b[0m, in \u001b[0;36mPreTrainedModel.from_pretrained\u001b[1;34m(cls, pretrained_model_name_or_path, *model_args, **kwargs)\u001b[0m\n\u001b[0;32m   2426\u001b[0m \u001b[39mif\u001b[39;00m from_pt:\n\u001b[0;32m   2427\u001b[0m     \u001b[39mif\u001b[39;00m \u001b[39mnot\u001b[39;00m is_sharded \u001b[39mand\u001b[39;00m state_dict \u001b[39mis\u001b[39;00m \u001b[39mNone\u001b[39;00m:\n\u001b[0;32m   2428\u001b[0m         \u001b[39m# Time to load the checkpoint\u001b[39;00m\n\u001b[1;32m-> 2429\u001b[0m         state_dict \u001b[39m=\u001b[39m load_state_dict(resolved_archive_file)\n\u001b[0;32m   2431\u001b[0m     \u001b[39m# set dtype to instantiate the model under:\u001b[39;00m\n\u001b[0;32m   2432\u001b[0m     \u001b[39m# 1. If torch_dtype is not None, we use that dtype\u001b[39;00m\n\u001b[0;32m   2433\u001b[0m     \u001b[39m# 2. If torch_dtype is \"auto\", we auto-detect dtype from the loaded state_dict, by checking its first\u001b[39;00m\n\u001b[0;32m   2434\u001b[0m     \u001b[39m#    weights entry that is of a floating type - we assume all floating dtype weights are of the same dtype\u001b[39;00m\n\u001b[0;32m   2435\u001b[0m     \u001b[39m# we also may have config.torch_dtype available, but we won't rely on it till v5\u001b[39;00m\n\u001b[0;32m   2436\u001b[0m     dtype_orig \u001b[39m=\u001b[39m \u001b[39mNone\u001b[39;00m\n",
      "File \u001b[1;32md:\\ProgramData\\miniconda3\\envs\\LSGL_env\\lib\\site-packages\\transformers\\modeling_utils.py:415\u001b[0m, in \u001b[0;36mload_state_dict\u001b[1;34m(checkpoint_file)\u001b[0m\n\u001b[0;32m    413\u001b[0m     \u001b[39mreturn\u001b[39;00m safe_load_file(checkpoint_file)\n\u001b[0;32m    414\u001b[0m \u001b[39mtry\u001b[39;00m:\n\u001b[1;32m--> 415\u001b[0m     \u001b[39mreturn\u001b[39;00m torch\u001b[39m.\u001b[39;49mload(checkpoint_file, map_location\u001b[39m=\u001b[39;49m\u001b[39m\"\u001b[39;49m\u001b[39mcpu\u001b[39;49m\u001b[39m\"\u001b[39;49m)\n\u001b[0;32m    416\u001b[0m \u001b[39mexcept\u001b[39;00m \u001b[39mException\u001b[39;00m \u001b[39mas\u001b[39;00m e:\n\u001b[0;32m    417\u001b[0m     \u001b[39mtry\u001b[39;00m:\n",
      "File \u001b[1;32md:\\ProgramData\\miniconda3\\envs\\LSGL_env\\lib\\site-packages\\torch\\serialization.py:712\u001b[0m, in \u001b[0;36mload\u001b[1;34m(f, map_location, pickle_module, **pickle_load_args)\u001b[0m\n\u001b[0;32m    710\u001b[0m             opened_file\u001b[39m.\u001b[39mseek(orig_position)\n\u001b[0;32m    711\u001b[0m             \u001b[39mreturn\u001b[39;00m torch\u001b[39m.\u001b[39mjit\u001b[39m.\u001b[39mload(opened_file)\n\u001b[1;32m--> 712\u001b[0m         \u001b[39mreturn\u001b[39;00m _load(opened_zipfile, map_location, pickle_module, \u001b[39m*\u001b[39;49m\u001b[39m*\u001b[39;49mpickle_load_args)\n\u001b[0;32m    713\u001b[0m \u001b[39mreturn\u001b[39;00m _legacy_load(opened_file, map_location, pickle_module, \u001b[39m*\u001b[39m\u001b[39m*\u001b[39mpickle_load_args)\n",
      "File \u001b[1;32md:\\ProgramData\\miniconda3\\envs\\LSGL_env\\lib\\site-packages\\torch\\serialization.py:1049\u001b[0m, in \u001b[0;36m_load\u001b[1;34m(zip_file, map_location, pickle_module, pickle_file, **pickle_load_args)\u001b[0m\n\u001b[0;32m   1047\u001b[0m unpickler \u001b[39m=\u001b[39m UnpicklerWrapper(data_file, \u001b[39m*\u001b[39m\u001b[39m*\u001b[39mpickle_load_args)\n\u001b[0;32m   1048\u001b[0m unpickler\u001b[39m.\u001b[39mpersistent_load \u001b[39m=\u001b[39m persistent_load\n\u001b[1;32m-> 1049\u001b[0m result \u001b[39m=\u001b[39m unpickler\u001b[39m.\u001b[39;49mload()\n\u001b[0;32m   1051\u001b[0m torch\u001b[39m.\u001b[39m_utils\u001b[39m.\u001b[39m_validate_loaded_sparse_tensors()\n\u001b[0;32m   1053\u001b[0m \u001b[39mreturn\u001b[39;00m result\n",
      "File \u001b[1;32md:\\ProgramData\\miniconda3\\envs\\LSGL_env\\lib\\site-packages\\torch\\serialization.py:1019\u001b[0m, in \u001b[0;36m_load.<locals>.persistent_load\u001b[1;34m(saved_id)\u001b[0m\n\u001b[0;32m   1017\u001b[0m \u001b[39mif\u001b[39;00m key \u001b[39mnot\u001b[39;00m \u001b[39min\u001b[39;00m loaded_storages:\n\u001b[0;32m   1018\u001b[0m     nbytes \u001b[39m=\u001b[39m numel \u001b[39m*\u001b[39m torch\u001b[39m.\u001b[39m_utils\u001b[39m.\u001b[39m_element_size(dtype)\n\u001b[1;32m-> 1019\u001b[0m     load_tensor(dtype, nbytes, key, _maybe_decode_ascii(location))\n\u001b[0;32m   1021\u001b[0m \u001b[39mreturn\u001b[39;00m loaded_storages[key]\n",
      "File \u001b[1;32md:\\ProgramData\\miniconda3\\envs\\LSGL_env\\lib\\site-packages\\torch\\serialization.py:997\u001b[0m, in \u001b[0;36m_load.<locals>.load_tensor\u001b[1;34m(dtype, numel, key, location)\u001b[0m\n\u001b[0;32m    994\u001b[0m \u001b[39mdef\u001b[39;00m \u001b[39mload_tensor\u001b[39m(dtype, numel, key, location):\n\u001b[0;32m    995\u001b[0m     name \u001b[39m=\u001b[39m \u001b[39mf\u001b[39m\u001b[39m'\u001b[39m\u001b[39mdata/\u001b[39m\u001b[39m{\u001b[39;00mkey\u001b[39m}\u001b[39;00m\u001b[39m'\u001b[39m\n\u001b[1;32m--> 997\u001b[0m     storage \u001b[39m=\u001b[39m zip_file\u001b[39m.\u001b[39;49mget_storage_from_record(name, numel, torch\u001b[39m.\u001b[39;49m_UntypedStorage)\u001b[39m.\u001b[39mstorage()\u001b[39m.\u001b[39m_untyped()\n\u001b[0;32m    998\u001b[0m     \u001b[39m# TODO: Once we decide to break serialization FC, we can\u001b[39;00m\n\u001b[0;32m    999\u001b[0m     \u001b[39m# stop wrapping with _TypedStorage\u001b[39;00m\n\u001b[0;32m   1000\u001b[0m     loaded_storages[key] \u001b[39m=\u001b[39m torch\u001b[39m.\u001b[39mstorage\u001b[39m.\u001b[39m_TypedStorage(\n\u001b[0;32m   1001\u001b[0m         wrap_storage\u001b[39m=\u001b[39mrestore_location(storage, location),\n\u001b[0;32m   1002\u001b[0m         dtype\u001b[39m=\u001b[39mdtype)\n",
      "\u001b[1;31mKeyboardInterrupt\u001b[0m: "
     ]
    }
   ],
   "source": [
    "# 添加sys路径\n",
    "import sys\n",
    "sys.path.append('./LSGL/LoFTR')\n",
    "\n",
    "# 使用Huggingface模型\n",
    "import LSGL.LoFTR as LoFTR\n",
    "import LSGL.hgmod as hgmod\n",
    "import LSGL.maskprocess as mp\n",
    "import LSGL.conver as conver\n",
    "import glob\n",
    "import os\n",
    "\n",
    "# 执行科学加速\n",
    "# ! export http_proxy=http://172.181.217.43:12798 && export https_proxy=http://172.181.217.43:12798\n",
    "\n",
    "# 设定参数\n",
    "\n",
    "# 当前案例\n",
    "user = ''\n",
    "# 当输入数据库时启用如下语句\n",
    "# user = \"inp_database\"\n",
    "# 用户影像输入路径\n",
    "# img_inppath = 'db_upload/'\n",
    "img_inppath = r'D:\\LSGL_test\\test1\\SMD'\n",
    "# 用户影像输出路径\n",
    "# img_outpath = 'database_img/'\n",
    "mask_outpath = 'D:/LSGL_test/tmp/'\n",
    "# 数据库影像路径\n",
    "img_database = 'D:/LSGL_test/test1/SD/'\n",
    "# 匹配结果输出路径\n",
    "res_path = 'D:/LSGL_test/res1/'\n",
    "# 环境\n",
    "envir = 'windows' # or 'linux'\n",
    "\n",
    "# 针对不同环境处理路径\n",
    "paths = [img_inppath, mask_outpath, img_database, res_path]\n",
    "img_inppath, mask_outpath, img_database, res_path = conver.path(paths, envir)\n",
    "\n",
    "# 设定处理模型\n",
    "segmodel = 'maskformer-swin-large-ade'\n",
    "# segmodel = 'maskformer-swin-tiny-ade'\n",
    "# segmodel = 'maskformer-swin-large-coco'\n",
    "\n",
    "\n",
    "# 调用分割模型\n",
    "inp_imgs = glob.glob(os.path.join(img_inppath + '*.png'))\n",
    "for userimage in inp_imgs:\n",
    "    print(userimage)\n",
    "    userimage = hgmod.Unipath(userimage)\n",
    "    hgmod.imagesegment(userimage,mask_outpath,segmodel)\n",
    "    hgmod.release_memory\n",
    "\n",
    "# 检查场景类型\n",
    "# mp.imgscene(mask_outpath)\n",
    "# 处理遮罩\n",
    "mp.proceed(mask_outpath, img_inppath, user, segmodel)\n",
    "# 调用LoFTR匹配计算\n",
    "LoFTR.process(img_inppath, img_database, res_path, mask_outpath)"
   ]
  },
  {
   "cell_type": "code",
   "execution_count": null,
   "metadata": {},
   "outputs": [],
   "source": []
  }
 ],
 "metadata": {
  "kernelspec": {
   "display_name": "LSGL_env",
   "language": "python",
   "name": "python3"
  },
  "language_info": {
   "codemirror_mode": {
    "name": "ipython",
    "version": 3
   },
   "file_extension": ".py",
   "mimetype": "text/x-python",
   "name": "python",
   "nbconvert_exporter": "python",
   "pygments_lexer": "ipython3",
   "version": "3.8.16"
  },
  "orig_nbformat": 4
 },
 "nbformat": 4,
 "nbformat_minor": 2
}

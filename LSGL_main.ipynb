{
 "cells": [
  {
   "cell_type": "code",
   "execution_count": null,
   "metadata": {},
   "outputs": [],
   "source": [
    "# 环境配置\n",
    "\n",
    "# 安装框架-Linux\n",
    "# ! conda install pytorch==1.10.0 torchvision==0.11.0 torchaudio==0.10.0 cudatoolkit=11.3 -c pytorch -c conda-forge\n",
    "# ! pip install https://storage.googleapis.com/tensorflow/linux/gpu/tensorflow_gpu-2.6.0-cp38-cp38-manylinux2010_x86_64.whl\n",
    "\n",
    "# 安装框架-Windows\n",
    "# ! conda install pytorch==1.10.0 torchvision==0.11.0 torchaudio==0.10.0 cudatoolkit=11.3 -c pytorch -c conda-forge\n",
    "! conda install -c conda-forge tensorflow-gpu"
   ]
  },
  {
   "cell_type": "code",
   "execution_count": null,
   "metadata": {},
   "outputs": [],
   "source": [
    "# 检测Pytorch框架，显示True则为通过\n",
    "\n",
    "import torch\n",
    "\n",
    "print(torch.__version__)\n",
    "print(torch.cuda.is_available())"
   ]
  },
  {
   "cell_type": "code",
   "execution_count": null,
   "metadata": {},
   "outputs": [],
   "source": [
    "# 检测Tensorflow环境，显示True则为通过\n",
    "\n",
    "import tensorflow as tf\n",
    "\n",
    "tf.test.is_gpu_available(cuda_only=False, min_cuda_compute_capability=None)"
   ]
  },
  {
   "cell_type": "code",
   "execution_count": null,
   "metadata": {},
   "outputs": [],
   "source": [
    "# 安装其它包\n",
    "%pip install -r requirements.txt -i https://pypi.tuna.tsinghua.edu.cn/simple"
   ]
  },
  {
   "cell_type": "code",
   "execution_count": 1,
   "metadata": {},
   "outputs": [
    {
     "name": "stderr",
     "output_type": "stream",
     "text": [
      "d:\\ProgramData\\miniconda3\\envs\\LSGL_env\\lib\\site-packages\\tqdm\\auto.py:21: TqdmWarning: IProgress not found. Please update jupyter and ipywidgets. See https://ipywidgets.readthedocs.io/en/stable/user_install.html\n",
      "  from .autonotebook import tqdm as notebook_tqdm\n"
     ]
    },
    {
     "ename": "KeyboardInterrupt",
     "evalue": "",
     "output_type": "error",
     "traceback": [
      "\u001b[1;31m---------------------------------------------------------------------------\u001b[0m",
      "\u001b[1;31mKeyboardInterrupt\u001b[0m                         Traceback (most recent call last)",
      "Cell \u001b[1;32mIn[1], line 6\u001b[0m\n\u001b[0;32m      3\u001b[0m sys\u001b[39m.\u001b[39mpath\u001b[39m.\u001b[39mappend(\u001b[39m'\u001b[39m\u001b[39m./LSGL/LoFTR\u001b[39m\u001b[39m'\u001b[39m)\n\u001b[0;32m      5\u001b[0m \u001b[39m# 使用Huggingface模型\u001b[39;00m\n\u001b[1;32m----> 6\u001b[0m \u001b[39mimport\u001b[39;00m \u001b[39mLSGL\u001b[39;00m\u001b[39m.\u001b[39;00m\u001b[39mLoFTR\u001b[39;00m \u001b[39mas\u001b[39;00m \u001b[39mLoFTR\u001b[39;00m\n\u001b[0;32m      7\u001b[0m \u001b[39mimport\u001b[39;00m \u001b[39mLSGL\u001b[39;00m\u001b[39m.\u001b[39;00m\u001b[39mhgmod\u001b[39;00m \u001b[39mas\u001b[39;00m \u001b[39mhgmod\u001b[39;00m\n\u001b[0;32m      8\u001b[0m \u001b[39mimport\u001b[39;00m \u001b[39mLSGL\u001b[39;00m\u001b[39m.\u001b[39;00m\u001b[39mmaskprocess\u001b[39;00m \u001b[39mas\u001b[39;00m \u001b[39mmp\u001b[39;00m\n",
      "File \u001b[1;32md:\\LSGL\\LSGL\\LoFTR.py:4\u001b[0m\n\u001b[0;32m      1\u001b[0m \u001b[39m# 使用Loftr进行匹配点计算\u001b[39;00m\n\u001b[0;32m      2\u001b[0m \n\u001b[0;32m      3\u001b[0m \u001b[39m# 引入所需模块\u001b[39;00m\n\u001b[1;32m----> 4\u001b[0m \u001b[39mimport\u001b[39;00m \u001b[39mtorch\u001b[39;00m\n\u001b[0;32m      5\u001b[0m \u001b[39mimport\u001b[39;00m \u001b[39mcv2\u001b[39;00m\n\u001b[0;32m      6\u001b[0m \u001b[39mimport\u001b[39;00m \u001b[39mnumpy\u001b[39;00m \u001b[39mas\u001b[39;00m \u001b[39mnp\u001b[39;00m\n",
      "File \u001b[1;32md:\\ProgramData\\miniconda3\\envs\\LSGL_env\\lib\\site-packages\\torch\\__init__.py:960\u001b[0m\n\u001b[0;32m    958\u001b[0m \u001b[39mif\u001b[39;00m sys\u001b[39m.\u001b[39mexecutable \u001b[39m!=\u001b[39m \u001b[39m'\u001b[39m\u001b[39mtorch_deploy\u001b[39m\u001b[39m'\u001b[39m:\n\u001b[0;32m    959\u001b[0m     \u001b[39mfrom\u001b[39;00m \u001b[39m.\u001b[39;00m \u001b[39mimport\u001b[39;00m library\n\u001b[1;32m--> 960\u001b[0m     \u001b[39mfrom\u001b[39;00m \u001b[39m.\u001b[39;00m \u001b[39mimport\u001b[39;00m _meta_registrations\n",
      "File \u001b[1;32md:\\ProgramData\\miniconda3\\envs\\LSGL_env\\lib\\site-packages\\torch\\_meta_registrations.py:2\u001b[0m\n\u001b[0;32m      1\u001b[0m \u001b[39mimport\u001b[39;00m \u001b[39mtorch\u001b[39;00m\n\u001b[1;32m----> 2\u001b[0m \u001b[39mfrom\u001b[39;00m \u001b[39mtorch\u001b[39;00m\u001b[39m.\u001b[39;00m\u001b[39m_prims\u001b[39;00m \u001b[39mimport\u001b[39;00m utils\n\u001b[0;32m      4\u001b[0m meta_lib \u001b[39m=\u001b[39m torch\u001b[39m.\u001b[39mlibrary\u001b[39m.\u001b[39mLibrary(\u001b[39m\"\u001b[39m\u001b[39maten\u001b[39m\u001b[39m\"\u001b[39m, \u001b[39m\"\u001b[39m\u001b[39mIMPL\u001b[39m\u001b[39m\"\u001b[39m, \u001b[39m\"\u001b[39m\u001b[39mMeta\u001b[39m\u001b[39m\"\u001b[39m)\n\u001b[0;32m      6\u001b[0m \u001b[39mdef\u001b[39;00m \u001b[39mcheck\u001b[39m(b, s):\n",
      "File \u001b[1;32md:\\ProgramData\\miniconda3\\envs\\LSGL_env\\lib\\site-packages\\torch\\_prims\\__init__.py:4\u001b[0m\n\u001b[0;32m      1\u001b[0m \u001b[39mimport\u001b[39;00m \u001b[39mtorch\u001b[39;00m\n\u001b[0;32m      2\u001b[0m \u001b[39mfrom\u001b[39;00m \u001b[39mtorch\u001b[39;00m \u001b[39mimport\u001b[39;00m Tensor, _TypedStorage\n\u001b[1;32m----> 4\u001b[0m \u001b[39mimport\u001b[39;00m \u001b[39mtorch\u001b[39;00m\u001b[39m.\u001b[39;00m\u001b[39m_prims\u001b[39;00m\u001b[39m.\u001b[39;00m\u001b[39mutils\u001b[39;00m \u001b[39mas\u001b[39;00m \u001b[39mutils\u001b[39;00m\n\u001b[0;32m      5\u001b[0m \u001b[39mfrom\u001b[39;00m \u001b[39mtorch\u001b[39;00m\u001b[39m.\u001b[39;00m\u001b[39m_prims\u001b[39;00m\u001b[39m.\u001b[39;00m\u001b[39mutils\u001b[39;00m \u001b[39mimport\u001b[39;00m (\n\u001b[0;32m      6\u001b[0m     TensorLike,\n\u001b[0;32m      7\u001b[0m     TensorLikeType,\n\u001b[1;32m   (...)\u001b[0m\n\u001b[0;32m     15\u001b[0m     NumberType,\n\u001b[0;32m     16\u001b[0m )\n\u001b[0;32m     17\u001b[0m \u001b[39mfrom\u001b[39;00m \u001b[39mtorch\u001b[39;00m\u001b[39m.\u001b[39;00m\u001b[39moverrides\u001b[39;00m \u001b[39mimport\u001b[39;00m has_torch_function, handle_torch_function\n",
      "File \u001b[1;32md:\\ProgramData\\miniconda3\\envs\\LSGL_env\\lib\\site-packages\\torch\\_prims\\utils.py:11\u001b[0m\n\u001b[0;32m      8\u001b[0m \u001b[39mimport\u001b[39;00m \u001b[39mtorch\u001b[39;00m\n\u001b[0;32m     10\u001b[0m \u001b[39m# nvFuser imports are conditional on CUDA being available\u001b[39;00m\n\u001b[1;32m---> 11\u001b[0m \u001b[39mif\u001b[39;00m torch\u001b[39m.\u001b[39;49mcuda\u001b[39m.\u001b[39;49mis_available():\n\u001b[0;32m     12\u001b[0m     \u001b[39mfrom\u001b[39;00m \u001b[39mtorch\u001b[39;00m\u001b[39m.\u001b[39;00m\u001b[39m_C\u001b[39;00m\u001b[39m.\u001b[39;00m\u001b[39m_nvfuser\u001b[39;00m \u001b[39mimport\u001b[39;00m DataType  \u001b[39m# type: ignore[import]\u001b[39;00m\n\u001b[0;32m     14\u001b[0m     _torch_dtype_to_nvfuser_dtype_map \u001b[39m=\u001b[39m {\n\u001b[0;32m     15\u001b[0m         torch\u001b[39m.\u001b[39mcdouble: DataType\u001b[39m.\u001b[39mComplexDouble,\n\u001b[0;32m     16\u001b[0m         torch\u001b[39m.\u001b[39mcfloat: DataType\u001b[39m.\u001b[39mComplexFloat,\n\u001b[1;32m   (...)\u001b[0m\n\u001b[0;32m     23\u001b[0m         torch\u001b[39m.\u001b[39mbool: DataType\u001b[39m.\u001b[39mBool,\n\u001b[0;32m     24\u001b[0m     }\n",
      "File \u001b[1;32md:\\ProgramData\\miniconda3\\envs\\LSGL_env\\lib\\site-packages\\torch\\cuda\\__init__.py:83\u001b[0m, in \u001b[0;36mis_available\u001b[1;34m()\u001b[0m\n\u001b[0;32m     80\u001b[0m     \u001b[39mreturn\u001b[39;00m \u001b[39mFalse\u001b[39;00m\n\u001b[0;32m     81\u001b[0m \u001b[39m# This function never throws and returns 0 if driver is missing or can't\u001b[39;00m\n\u001b[0;32m     82\u001b[0m \u001b[39m# be initialized\u001b[39;00m\n\u001b[1;32m---> 83\u001b[0m \u001b[39mreturn\u001b[39;00m torch\u001b[39m.\u001b[39;49m_C\u001b[39m.\u001b[39;49m_cuda_getDeviceCount() \u001b[39m>\u001b[39;49m \u001b[39m0\u001b[39;49m\n",
      "\u001b[1;31mKeyboardInterrupt\u001b[0m: "
     ]
    }
   ],
   "source": [
    "# 添加sys路径\n",
    "import sys\n",
    "sys.path.append('./LSGL/LoFTR')\n",
    "\n",
    "# 使用Huggingface模型\n",
    "import LSGL.LoFTR as LoFTR\n",
    "import LSGL.hgmod as hgmod\n",
    "import LSGL.maskprocess as mp\n",
    "import LSGL.conver as conver\n",
    "import StreetView.Block as Block\n",
    "import StreetView.spider as spider\n",
    "import glob\n",
    "import os\n",
    "\n",
    "# 执行科学加速\n",
    "# ! export http_proxy=http://172.181.217.43:12798 && export https_proxy=http://172.181.217.43:12798\n",
    "\n",
    "# 设定参数\n",
    "\n",
    "# 获取影像的中心\n",
    "center = (113.380353386,34.8141059127)\n",
    "# 网格边长\n",
    "length = 0.25\n",
    "# 坐标结果输出\n",
    "csv_file = 'D:/LSGL_test/test1/coordinates.csv'\n",
    "# 数据输出\n",
    "data_outpath = 'D:/LSGL_test/resource'\n",
    "# 用户影像输入路径\n",
    "# img_inppath = 'db_upload/'\n",
    "img_inppath = r'D:\\LSGL_test\\test1\\SMD'\n",
    "# 用户影像输出路径\n",
    "# img_outpath = 'database_img/'\n",
    "mask_outpath = 'D:/LSGL_test/tmp/'\n",
    "# 匹配结果输出路径\n",
    "res_path = 'D:/LSGL_test/res1/'\n",
    "# 环境\n",
    "envir = 'windows' # or 'linux'\n",
    "\n",
    "# 针对不同环境处理路径\n",
    "paths = [img_inppath, mask_outpath, res_path, csv_file]\n",
    "img_inppath, mask_outpath, res_path, csv_file = conver.path(paths, envir)\n",
    "\n",
    "# 设定处理模型\n",
    "segmodel = 'maskformer-swin-large-ade'\n",
    "# segmodel = 'maskformer-swin-tiny-ade'\n",
    "# segmodel = 'maskformer-swin-large-coco'\n",
    "\n",
    "# 检查场景类型\n",
    "# mp.imgscene(mask_outpath)\n",
    "# 处理遮罩\n",
    "# mp.proceed(mask_outpath, img_inppath, segmodel)\n",
    "\n",
    "# 爬取街景并进行匹配\n",
    "for i in length(5):\n",
    "    Block.Cut(center, length, csv_file)\n",
    "    spider.getPic(data_outpath, csv_file)\n",
    "\n",
    "    if Block.chekres == 0:\n",
    "        print('已到达最小层级')\n",
    "        break\n",
    "\n",
    "    # 调用分割模型\n",
    "    # inp_imgs = glob.glob(os.path.join(img_inppath + '*.png'))\n",
    "    # for userimage in inp_imgs:\n",
    "    #     print(userimage)\n",
    "    #     userimage = hgmod.Unipath(userimage)\n",
    "    #     hgmod.imagesegment(userimage,mask_outpath,segmodel)\n",
    "    #     hgmod.release_memory\n",
    "\n",
    "\n",
    "    # 调用LoFTR匹配计算\n",
    "    # LoFTR.process(img_inppath, data_outpath, res_path, mask_outpath)\n",
    "    LoFTR.rating(res_path)\n",
    "    ### 目前写到根据最优结果的坐标进入下一轮循环（还没写）"
   ]
  },
  {
   "cell_type": "code",
   "execution_count": 2,
   "metadata": {},
   "outputs": [
    {
     "name": "stdout",
     "output_type": "stream",
     "text": [
      "0\n"
     ]
    }
   ],
   "source": [
    "import StreetView.Block as Block\n",
    "import StreetView.spider as spider\n",
    "\n",
    "# center = (113.380353386,34.8141059127)\n",
    "# length = 0.25\n",
    "# csv_file = 'D:/LSGL_test/test1/coordinates.csv'\n",
    "path = 'D:/LSGL_test/resource/downloadPic'\n",
    "# Block.Cut(center, length, csv_file)\n",
    "# spider.getPic('D:/LSGL_test/resource', csv_file)\n",
    "print(Block.chekres(path))"
   ]
  },
  {
   "cell_type": "code",
   "execution_count": null,
   "metadata": {},
   "outputs": [],
   "source": []
  }
 ],
 "metadata": {
  "kernelspec": {
   "display_name": "LSGL_env",
   "language": "python",
   "name": "python3"
  },
  "language_info": {
   "codemirror_mode": {
    "name": "ipython",
    "version": 3
   },
   "file_extension": ".py",
   "mimetype": "text/x-python",
   "name": "python",
   "nbconvert_exporter": "python",
   "pygments_lexer": "ipython3",
   "version": "3.8.16"
  },
  "orig_nbformat": 4
 },
 "nbformat": 4,
 "nbformat_minor": 2
}
